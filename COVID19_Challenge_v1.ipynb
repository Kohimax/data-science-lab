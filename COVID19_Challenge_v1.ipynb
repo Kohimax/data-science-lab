{
  "nbformat": 4,
  "nbformat_minor": 0,
  "metadata": {
    "colab": {
      "name": "COVID19_Challenge_v1.ipynb",
      "provenance": [],
      "collapsed_sections": [],
      "machine_shape": "hm"
    },
    "kernelspec": {
      "name": "python3",
      "display_name": "Python 3"
    },
    "accelerator": "GPU"
  },
  "cells": [
    {
      "cell_type": "code",
      "metadata": {
        "id": "9CLJgQ_BMNgX",
        "colab_type": "code",
        "outputId": "7fa1732f-eabb-4504-c925-14ea6b7cfdc6",
        "colab": {
          "base_uri": "https://localhost:8080/",
          "height": 119
        }
      },
      "source": [
        "# This Python 3 environment comes with many helpful analytics libraries installed\n",
        "# It is defined by the kaggle/python docker image: https://github.com/kaggle/docker-python\n",
        "# For example, here's several helpful packages to load in \n",
        "import re\n",
        "import string\n",
        "import collections\n",
        "import pandas as pd\n",
        "import seaborn as sns\n",
        "import matplotlib.pyplot as plt\n",
        "\n",
        "\n",
        "from nltk import word_tokenize\n",
        "from nltk.stem import PorterStemmer\n",
        "from nltk.corpus import stopwords\n",
        "\n",
        "from sklearn.manifold import TSNE\n",
        "from sklearn.cluster import KMeans\n",
        "from sklearn.feature_extraction.text import HashingVectorizer\n",
        "from sklearn.feature_extraction.text import TfidfVectorizer\n",
        "from sklearn.model_selection import train_test_split\n",
        "from sklearn.cluster import MiniBatchKMeans\n",
        "\n",
        "from time import time\n",
        "%matplotlib inline\n",
        "\n",
        "import nltk\n",
        "nltk.download('stopwords')\n",
        "nltk.download('punkt')\n",
        "\n",
        "stop_words = set(stopwords.words('english'))\n",
        "porter=PorterStemmer()"
      ],
      "execution_count": 0,
      "outputs": [
        {
          "output_type": "stream",
          "text": [
            "/usr/local/lib/python3.6/dist-packages/statsmodels/tools/_testing.py:19: FutureWarning: pandas.util.testing is deprecated. Use the functions in the public API at pandas.testing instead.\n",
            "  import pandas.util.testing as tm\n"
          ],
          "name": "stderr"
        },
        {
          "output_type": "stream",
          "text": [
            "[nltk_data] Downloading package stopwords to /root/nltk_data...\n",
            "[nltk_data]   Unzipping corpora/stopwords.zip.\n",
            "[nltk_data] Downloading package punkt to /root/nltk_data...\n",
            "[nltk_data]   Unzipping tokenizers/punkt.zip.\n"
          ],
          "name": "stdout"
        }
      ]
    },
    {
      "cell_type": "code",
      "metadata": {
        "id": "EcrHVULGSxih",
        "colab_type": "code",
        "colab": {}
      },
      "source": [
        "import spacy\n",
        "import spacy.cli\n",
        "from spacy.matcher import Matcher \n",
        "from spacy.matcher import PhraseMatcher"
      ],
      "execution_count": 0,
      "outputs": []
    },
    {
      "cell_type": "code",
      "metadata": {
        "id": "YttiYKvMRA-w",
        "colab_type": "code",
        "outputId": "2618bf67-3607-470d-e5e6-d28282323467",
        "colab": {
          "base_uri": "https://localhost:8080/",
          "height": 34
        }
      },
      "source": [
        "import tensorflow as tf\n",
        "device_name = tf.test.gpu_device_name()\n",
        "if device_name != '/device:GPU:0':\n",
        "  raise SystemError('GPU device not found')\n",
        "print('Found GPU at: {}'.format(device_name))"
      ],
      "execution_count": 0,
      "outputs": [
        {
          "output_type": "stream",
          "text": [
            "Found GPU at: /device:GPU:0\n"
          ],
          "name": "stdout"
        }
      ]
    },
    {
      "cell_type": "code",
      "metadata": {
        "id": "C3k_AKHedc9Q",
        "colab_type": "code",
        "outputId": "2458fbc1-d30b-479a-8060-47b4c45a9f20",
        "colab": {
          "base_uri": "https://localhost:8080/",
          "height": 153
        }
      },
      "source": [
        "spacy.cli.download(\"en\")\n",
        "spacy.cli.download(\"en_core_web_lg\")\n",
        "nlp = spacy.load('en_core_web_lg')\n",
        "sbd = nlp.create_pipe('sentencizer')\n",
        "nlp.add_pipe(sbd)"
      ],
      "execution_count": 0,
      "outputs": [
        {
          "output_type": "stream",
          "text": [
            "\u001b[38;5;2m✔ Download and installation successful\u001b[0m\n",
            "You can now load the model via spacy.load('en_core_web_sm')\n",
            "\u001b[38;5;2m✔ Linking successful\u001b[0m\n",
            "/usr/local/lib/python3.6/dist-packages/en_core_web_sm -->\n",
            "/usr/local/lib/python3.6/dist-packages/spacy/data/en\n",
            "You can now load the model via spacy.load('en')\n",
            "\u001b[38;5;2m✔ Download and installation successful\u001b[0m\n",
            "You can now load the model via spacy.load('en_core_web_lg')\n"
          ],
          "name": "stdout"
        }
      ]
    },
    {
      "cell_type": "markdown",
      "metadata": {
        "id": "vcGaQDIYGOaL",
        "colab_type": "text"
      },
      "source": [
        "**Data Cleaning functions**"
      ]
    },
    {
      "cell_type": "code",
      "metadata": {
        "id": "sVzo4IuRCrLP",
        "colab_type": "code",
        "colab": {}
      },
      "source": [
        "def cleanEmptyData(columnName,df):\n",
        "    return df[df[columnName].notnull()]\n",
        "\n",
        "\n",
        "## Remove Punctuation----------\n",
        "def remove_punctuation(columnName,df):\n",
        "    return df.loc[:,columnName].apply(lambda x: re.sub('[^a-zA-z\\s]','',x))\n",
        "\n",
        "## Convert To Lower Case\n",
        "def lower_case(input_str):\n",
        "    input_str = input_str.lower()\n",
        "    return input_str  \n",
        "\n",
        "def removeDuplicate(df,list):\n",
        "    df.drop_duplicates(list, inplace=True)    \n",
        "\n",
        "def remove_stop_words(columnName,df):\n",
        "  return df.loc[:,columnName].apply(lambda x: [word for word in x.split() if word not in stop_words])\n",
        "\n",
        "def remove_one_character_word(columnName,df):\n",
        "  return df.loc[:,columnName].apply(lambda x: [i for i in x if len(i) > 1])\n",
        "\n",
        "def join_seperator(columnName,df):\n",
        "  seperator = ', '\n",
        "  return df.loc[:,columnName].apply(lambda x: seperator.join(x))\n",
        "\n",
        "def apply_stemmer(columnName,df):\n",
        "  return df.loc[:,columnName].apply(lambda x: [porter.stem(word) for word in x])\n",
        "\n",
        "## Data Cleaning Process\n",
        "def dataCleaningProcess(dataFrame):\n",
        "    removeDuplicate(dataFrame,['abstract', 'text_body'])\n",
        "    clean_data = cleanEmptyData('text_body',dataFrame)\n",
        "    clean_data.loc[:,'text_body_clean'] = clean_data.loc[:,'text_body'].apply(lambda x: lower_case(x))\n",
        "    print('Lowe case Conversion completed')\n",
        "    clean_data.loc[:,'text_body_clean'] = remove_punctuation('text_body_clean',clean_data)\n",
        "    print('Punctuation Remove completed')\n",
        "    clean_data.loc[:,'text_body_clean'] = remove_stop_words('text_body_clean',clean_data)\n",
        "    print('Remove Stop Words completed')\n",
        "    clean_data.loc[:,'text_body_clean'] = apply_stemmer('text_body_clean',clean_data)\n",
        "    print('Stemmer APplied completed')\n",
        "    clean_data.loc[:,'text_body_clean'] = remove_one_character_word('text_body_clean',clean_data)\n",
        "    print('Remove One Chater completed')\n",
        "    clean_data.loc[:,'text_body_clean'] = join_seperator('text_body_clean',clean_data)\n",
        "    print('Join to single string')\n",
        "    clean_data.loc[:,'text_body_clean'] = remove_punctuation('text_body_clean',clean_data)\n",
        "    print('RFemove coma from the sentence')\n",
        "    return clean_data"
      ],
      "execution_count": 0,
      "outputs": []
    },
    {
      "cell_type": "markdown",
      "metadata": {
        "id": "IwTgHbmepU5k",
        "colab_type": "text"
      },
      "source": [
        "**Helper Functions**"
      ]
    },
    {
      "cell_type": "code",
      "metadata": {
        "id": "9EDNsqEtpPjd",
        "colab_type": "code",
        "colab": {}
      },
      "source": [
        "def getWordsFromText(_text):\n",
        "    words = []\n",
        "    for i in range(0,len(_text)):\n",
        "        words.append(str(_text.iloc[i]['text_body']).split(\" \"))\n",
        "    return words\n",
        "\n",
        "# Read Excel data as Data Frame\n",
        "def readExcelToDataFrame(path):\n",
        "    research_dataframe = pd.read_csv(path,index_col=False)\n",
        "    research_dataframe.drop(research_dataframe.columns[research_dataframe.columns.str.contains('unnamed',case = False)],axis = 1, inplace = True)\n",
        "    return research_dataframe\n",
        "\n",
        "## basic scatter plot\n",
        "def showScatterPlot(_X,title):\n",
        "    # sns settings\n",
        "    sns.set(rc={'figure.figsize':(15,15)})\n",
        "    # colors\n",
        "    palette = sns.color_palette(\"bright\", 1)\n",
        "    # plot\n",
        "    sns.scatterplot(_X[:,0], _X[:,1], palette=palette)\n",
        "    plt.title(title)\n",
        "    # plt.savefig(\"plots/t-sne_covid19.png\")\n",
        "    plt.show()\n",
        "\n",
        "## scatter plot with cluster\n",
        "def showClusterScatterPlot(_X, _y_pred, title):\n",
        "    # sns settings\n",
        "    sns.set(rc={'figure.figsize':(10,10)})\n",
        "    # colors\n",
        "    palette = sns.color_palette(\"bright\", len(set(_y_pred)))\n",
        "    # plot\n",
        "    sns.scatterplot(_X[:,0], _X[:,1], hue=_y_pred, legend='full', palette=palette)\n",
        "    plt.title(title)\n",
        "    # plt.savefig(\"plots/t-sne_covid19_label.png\")\n",
        "    plt.show()\n",
        "\n",
        "\n",
        "## drop clumns\n",
        "def getTargetData(dataFrame):\n",
        "    text_body = dataFrame.drop([\"doc_id\", \"source\", \"title\", \"abstract\"], axis=1)\n",
        "    return getWordsFromText(text_body)\n",
        "\n",
        "def trainEmbededData(_perplexity,dataFrame,total_cluster, _n_iter):\n",
        "    vectorizer = TfidfVectorizer(max_features=2**12)\n",
        "    print('TfidfVectorizer completed')\n",
        "    _X = vectorizer.fit_transform(dataFrame['text_body_clean'].values)\n",
        "    print('Fit & Fransform completed')\n",
        "    tsne = TSNE(verbose=1, perplexity=_perplexity,learning_rate=200, random_state=0, n_iter=_n_iter)\n",
        "    _X_embeded = tsne.fit_transform(_X.toarray())\n",
        "    print('Embeded Fit & Fransform completed')\n",
        "    _kmeans = MiniBatchKMeans(n_clusters=total_cluster)\n",
        "    return _X_embeded,_kmeans,_X\n",
        "\n",
        "def predict(_kmeans,_X):\n",
        "    return _kmeans.fit_predict(_X)\n",
        "    \n",
        "def analyse(pplexity,data_frame,cluster,iter):\n",
        "    embeded,kmeans,x = trainEmbededData(pplexity,data_frame,cluster,iter)\n",
        "    print('Completed Training')\n",
        "    pred = predict(kmeans,x)\n",
        "    print('Prediction completed')\n",
        "    showClusterScatterPlot(embeded,pred,'t-SNE Covid-19 - Clustered(K-Means) - Tf-idf with Plain Text')\n",
        "    return embeded,kmeans,x    "
      ],
      "execution_count": 0,
      "outputs": []
    },
    {
      "cell_type": "code",
      "metadata": {
        "id": "616kvDXxyR6t",
        "colab_type": "code",
        "colab": {}
      },
      "source": [
        ""
      ],
      "execution_count": 0,
      "outputs": []
    },
    {
      "cell_type": "code",
      "metadata": {
        "id": "fwj3fXQ5Cy0s",
        "colab_type": "code",
        "outputId": "6e77583e-b420-43bf-8bda-c1a102153518",
        "colab": {
          "base_uri": "https://localhost:8080/",
          "height": 204
        }
      },
      "source": [
        "research_dataframe = readExcelToDataFrame('/content/drive/My Drive/Colab Notebooks/kaggle_covid_19.csv')\n",
        "# clean_data =dataCleaningProcess(research_dataframe)\n",
        "research_dataframe.head()"
      ],
      "execution_count": 0,
      "outputs": [
        {
          "output_type": "execute_result",
          "data": {
            "text/html": [
              "<div>\n",
              "<style scoped>\n",
              "    .dataframe tbody tr th:only-of-type {\n",
              "        vertical-align: middle;\n",
              "    }\n",
              "\n",
              "    .dataframe tbody tr th {\n",
              "        vertical-align: top;\n",
              "    }\n",
              "\n",
              "    .dataframe thead th {\n",
              "        text-align: right;\n",
              "    }\n",
              "</style>\n",
              "<table border=\"1\" class=\"dataframe\">\n",
              "  <thead>\n",
              "    <tr style=\"text-align: right;\">\n",
              "      <th></th>\n",
              "      <th>doc_id</th>\n",
              "      <th>source</th>\n",
              "      <th>title</th>\n",
              "      <th>abstract</th>\n",
              "      <th>text_body</th>\n",
              "    </tr>\n",
              "  </thead>\n",
              "  <tbody>\n",
              "    <tr>\n",
              "      <th>0</th>\n",
              "      <td>NaN</td>\n",
              "      <td>NaN</td>\n",
              "      <td>NaN</td>\n",
              "      <td>NaN</td>\n",
              "      <td>NaN</td>\n",
              "    </tr>\n",
              "    <tr>\n",
              "      <th>1</th>\n",
              "      <td>850dc8add6efb76a6dc341cb7a5a236c1dd3da7c</td>\n",
              "      <td>BIORXIV</td>\n",
              "      <td>Expanded skin virome in DOCK8-deficient patients</td>\n",
              "      <td>NaN</td>\n",
              "      <td>recurrent cutaneous and systemic infections, a...</td>\n",
              "    </tr>\n",
              "    <tr>\n",
              "      <th>2</th>\n",
              "      <td>dd6c1a719bd75ba7fb7c62291a676b39c99bb0bc</td>\n",
              "      <td>BIORXIV</td>\n",
              "      <td>Veterinary Science Molecular characterization ...</td>\n",
              "      <td>The cDNA nucleotide sequence of genome segment...</td>\n",
              "      <td>Members of the family Birnaviridae have 2-segm...</td>\n",
              "    </tr>\n",
              "    <tr>\n",
              "      <th>3</th>\n",
              "      <td>e88710cd7b238794bd75f21d308bc5442ad9713f</td>\n",
              "      <td>BIORXIV</td>\n",
              "      <td>NaN</td>\n",
              "      <td>NaN</td>\n",
              "      <td>The common cold is one of the most prevalent a...</td>\n",
              "    </tr>\n",
              "    <tr>\n",
              "      <th>4</th>\n",
              "      <td>d46d2f01a570bfb6e3b2e65ec50972d1649b6a3d</td>\n",
              "      <td>BIORXIV</td>\n",
              "      <td>Severe Acute Respiratory Syndrome: Lessons fro...</td>\n",
              "      <td>An outbreak of severe acute respiratory syndro...</td>\n",
              "      <td>A n outbreak of severe acute respiratory syndr...</td>\n",
              "    </tr>\n",
              "  </tbody>\n",
              "</table>\n",
              "</div>"
            ],
            "text/plain": [
              "                                     doc_id  ...                                          text_body\n",
              "0                                       NaN  ...                                                NaN\n",
              "1  850dc8add6efb76a6dc341cb7a5a236c1dd3da7c  ...  recurrent cutaneous and systemic infections, a...\n",
              "2  dd6c1a719bd75ba7fb7c62291a676b39c99bb0bc  ...  Members of the family Birnaviridae have 2-segm...\n",
              "3  e88710cd7b238794bd75f21d308bc5442ad9713f  ...  The common cold is one of the most prevalent a...\n",
              "4  d46d2f01a570bfb6e3b2e65ec50972d1649b6a3d  ...  A n outbreak of severe acute respiratory syndr...\n",
              "\n",
              "[5 rows x 5 columns]"
            ]
          },
          "metadata": {
            "tags": []
          },
          "execution_count": 6
        }
      ]
    },
    {
      "cell_type": "code",
      "metadata": {
        "id": "RGa0YTSbwMLx",
        "colab_type": "code",
        "outputId": "0f92a236-1a4a-4b90-de83-3cfdbc76e1d0",
        "colab": {
          "base_uri": "https://localhost:8080/",
          "height": 34
        }
      },
      "source": [
        "research_dataframe.shape"
      ],
      "execution_count": 0,
      "outputs": [
        {
          "output_type": "execute_result",
          "data": {
            "text/plain": [
              "(13203, 5)"
            ]
          },
          "metadata": {
            "tags": []
          },
          "execution_count": 32
        }
      ]
    },
    {
      "cell_type": "code",
      "metadata": {
        "id": "L2Jai2OR6mTT",
        "colab_type": "code",
        "colab": {}
      },
      "source": [
        "meta_data = readExcelToDataFrame('/content/drive/My Drive/Colab Notebooks/metadata.csv')"
      ],
      "execution_count": 0,
      "outputs": []
    },
    {
      "cell_type": "code",
      "metadata": {
        "id": "HKAaXMjctADb",
        "colab_type": "code",
        "outputId": "1d7f1899-e43b-44bd-dbaa-03b62448673b",
        "colab": {
          "base_uri": "https://localhost:8080/",
          "height": 219
        }
      },
      "source": [
        "meta_data.head(1)"
      ],
      "execution_count": 0,
      "outputs": [
        {
          "output_type": "execute_result",
          "data": {
            "text/html": [
              "<div>\n",
              "<style scoped>\n",
              "    .dataframe tbody tr th:only-of-type {\n",
              "        vertical-align: middle;\n",
              "    }\n",
              "\n",
              "    .dataframe tbody tr th {\n",
              "        vertical-align: top;\n",
              "    }\n",
              "\n",
              "    .dataframe thead th {\n",
              "        text-align: right;\n",
              "    }\n",
              "</style>\n",
              "<table border=\"1\" class=\"dataframe\">\n",
              "  <thead>\n",
              "    <tr style=\"text-align: right;\">\n",
              "      <th></th>\n",
              "      <th>cord_uid</th>\n",
              "      <th>sha</th>\n",
              "      <th>source_x</th>\n",
              "      <th>title</th>\n",
              "      <th>doi</th>\n",
              "      <th>pmcid</th>\n",
              "      <th>pubmed_id</th>\n",
              "      <th>license</th>\n",
              "      <th>abstract</th>\n",
              "      <th>publish_time</th>\n",
              "      <th>authors</th>\n",
              "      <th>journal</th>\n",
              "      <th>Microsoft Academic Paper ID</th>\n",
              "      <th>WHO #Covidence</th>\n",
              "      <th>has_pdf_parse</th>\n",
              "      <th>has_pmc_xml_parse</th>\n",
              "      <th>full_text_file</th>\n",
              "      <th>url</th>\n",
              "    </tr>\n",
              "  </thead>\n",
              "  <tbody>\n",
              "    <tr>\n",
              "      <th>0</th>\n",
              "      <td>xqhn0vbp</td>\n",
              "      <td>1e1286db212100993d03cc22374b624f7caee956</td>\n",
              "      <td>PMC</td>\n",
              "      <td>Airborne rhinovirus detection and effect of ul...</td>\n",
              "      <td>10.1186/1471-2458-3-5</td>\n",
              "      <td>PMC140314</td>\n",
              "      <td>12525263.0</td>\n",
              "      <td>no-cc</td>\n",
              "      <td>BACKGROUND: Rhinovirus, the most common cause ...</td>\n",
              "      <td>2003-01-13</td>\n",
              "      <td>Myatt, Theodore A; Johnston, Sebastian L; Rudn...</td>\n",
              "      <td>BMC Public Health</td>\n",
              "      <td>NaN</td>\n",
              "      <td>NaN</td>\n",
              "      <td>True</td>\n",
              "      <td>True</td>\n",
              "      <td>custom_license</td>\n",
              "      <td>https://www.ncbi.nlm.nih.gov/pmc/articles/PMC1...</td>\n",
              "    </tr>\n",
              "  </tbody>\n",
              "</table>\n",
              "</div>"
            ],
            "text/plain": [
              "   cord_uid  ...                                                url\n",
              "0  xqhn0vbp  ...  https://www.ncbi.nlm.nih.gov/pmc/articles/PMC1...\n",
              "\n",
              "[1 rows x 18 columns]"
            ]
          },
          "metadata": {
            "tags": []
          },
          "execution_count": 12
        }
      ]
    },
    {
      "cell_type": "code",
      "metadata": {
        "id": "FP868Zx7tD0v",
        "colab_type": "code",
        "outputId": "a9b6915a-6b8b-4663-fff5-1c06573eeb33",
        "colab": {
          "base_uri": "https://localhost:8080/",
          "height": 219
        }
      },
      "source": [
        "meta_data_filter = meta_data.query('doi == \"10.1186/1471-2458-3-5\"')\n",
        "meta_data_filter.head()"
      ],
      "execution_count": 0,
      "outputs": [
        {
          "output_type": "execute_result",
          "data": {
            "text/html": [
              "<div>\n",
              "<style scoped>\n",
              "    .dataframe tbody tr th:only-of-type {\n",
              "        vertical-align: middle;\n",
              "    }\n",
              "\n",
              "    .dataframe tbody tr th {\n",
              "        vertical-align: top;\n",
              "    }\n",
              "\n",
              "    .dataframe thead th {\n",
              "        text-align: right;\n",
              "    }\n",
              "</style>\n",
              "<table border=\"1\" class=\"dataframe\">\n",
              "  <thead>\n",
              "    <tr style=\"text-align: right;\">\n",
              "      <th></th>\n",
              "      <th>cord_uid</th>\n",
              "      <th>sha</th>\n",
              "      <th>source_x</th>\n",
              "      <th>title</th>\n",
              "      <th>doi</th>\n",
              "      <th>pmcid</th>\n",
              "      <th>pubmed_id</th>\n",
              "      <th>license</th>\n",
              "      <th>abstract</th>\n",
              "      <th>publish_time</th>\n",
              "      <th>authors</th>\n",
              "      <th>journal</th>\n",
              "      <th>Microsoft Academic Paper ID</th>\n",
              "      <th>WHO #Covidence</th>\n",
              "      <th>has_pdf_parse</th>\n",
              "      <th>has_pmc_xml_parse</th>\n",
              "      <th>full_text_file</th>\n",
              "      <th>url</th>\n",
              "    </tr>\n",
              "  </thead>\n",
              "  <tbody>\n",
              "    <tr>\n",
              "      <th>0</th>\n",
              "      <td>xqhn0vbp</td>\n",
              "      <td>1e1286db212100993d03cc22374b624f7caee956</td>\n",
              "      <td>PMC</td>\n",
              "      <td>Airborne rhinovirus detection and effect of ul...</td>\n",
              "      <td>10.1186/1471-2458-3-5</td>\n",
              "      <td>PMC140314</td>\n",
              "      <td>12525263.0</td>\n",
              "      <td>no-cc</td>\n",
              "      <td>BACKGROUND: Rhinovirus, the most common cause ...</td>\n",
              "      <td>2003-01-13</td>\n",
              "      <td>Myatt, Theodore A; Johnston, Sebastian L; Rudn...</td>\n",
              "      <td>BMC Public Health</td>\n",
              "      <td>NaN</td>\n",
              "      <td>NaN</td>\n",
              "      <td>True</td>\n",
              "      <td>True</td>\n",
              "      <td>custom_license</td>\n",
              "      <td>https://www.ncbi.nlm.nih.gov/pmc/articles/PMC1...</td>\n",
              "    </tr>\n",
              "  </tbody>\n",
              "</table>\n",
              "</div>"
            ],
            "text/plain": [
              "   cord_uid  ...                                                url\n",
              "0  xqhn0vbp  ...  https://www.ncbi.nlm.nih.gov/pmc/articles/PMC1...\n",
              "\n",
              "[1 rows x 18 columns]"
            ]
          },
          "metadata": {
            "tags": []
          },
          "execution_count": 13
        }
      ]
    },
    {
      "cell_type": "code",
      "metadata": {
        "id": "151XmVbJn80O",
        "colab_type": "code",
        "outputId": "5141eaec-4c54-42cb-d472-e174e15fb06d",
        "colab": {
          "base_uri": "https://localhost:8080/",
          "height": 236
        }
      },
      "source": [
        "# doi,publish_time,authors,url,title,inference\n",
        "meta_data_filter = meta_data.query('doi == \"10.5582/ddt.2011.v5.5.220\"')\n",
        "meta_data_filter.head()"
      ],
      "execution_count": 0,
      "outputs": [
        {
          "output_type": "execute_result",
          "data": {
            "text/html": [
              "<div>\n",
              "<style scoped>\n",
              "    .dataframe tbody tr th:only-of-type {\n",
              "        vertical-align: middle;\n",
              "    }\n",
              "\n",
              "    .dataframe tbody tr th {\n",
              "        vertical-align: top;\n",
              "    }\n",
              "\n",
              "    .dataframe thead th {\n",
              "        text-align: right;\n",
              "    }\n",
              "</style>\n",
              "<table border=\"1\" class=\"dataframe\">\n",
              "  <thead>\n",
              "    <tr style=\"text-align: right;\">\n",
              "      <th></th>\n",
              "      <th>cord_uid</th>\n",
              "      <th>sha</th>\n",
              "      <th>source_x</th>\n",
              "      <th>title</th>\n",
              "      <th>doi</th>\n",
              "      <th>pmcid</th>\n",
              "      <th>pubmed_id</th>\n",
              "      <th>license</th>\n",
              "      <th>abstract</th>\n",
              "      <th>publish_time</th>\n",
              "      <th>authors</th>\n",
              "      <th>journal</th>\n",
              "      <th>Microsoft Academic Paper ID</th>\n",
              "      <th>WHO #Covidence</th>\n",
              "      <th>has_pdf_parse</th>\n",
              "      <th>has_pmc_xml_parse</th>\n",
              "      <th>full_text_file</th>\n",
              "      <th>url</th>\n",
              "    </tr>\n",
              "  </thead>\n",
              "  <tbody>\n",
              "    <tr>\n",
              "      <th>22476</th>\n",
              "      <td>2vb63yn6</td>\n",
              "      <td>NaN</td>\n",
              "      <td>PMC</td>\n",
              "      <td>A sensitive near-infrared fluorescent probe fo...</td>\n",
              "      <td>10.5582/ddt.2011.v5.5.220</td>\n",
              "      <td>PMC3265084</td>\n",
              "      <td>22282719.0</td>\n",
              "      <td>unk</td>\n",
              "      <td>Near-infrared (NIR) absorbing dyes represent a...</td>\n",
              "      <td>2011-01-01</td>\n",
              "      <td>Luan, Yepeng; Yang, Qiuhong; Xie, Yumei; Duan,...</td>\n",
              "      <td>Drug Discoveries &amp; Therapeutics</td>\n",
              "      <td>NaN</td>\n",
              "      <td>NaN</td>\n",
              "      <td>False</td>\n",
              "      <td>False</td>\n",
              "      <td>NaN</td>\n",
              "      <td>https://www.jstage.jst.go.jp/article/ddt/5/5/5...</td>\n",
              "    </tr>\n",
              "  </tbody>\n",
              "</table>\n",
              "</div>"
            ],
            "text/plain": [
              "       cord_uid  ...                                                url\n",
              "22476  2vb63yn6  ...  https://www.jstage.jst.go.jp/article/ddt/5/5/5...\n",
              "\n",
              "[1 rows x 18 columns]"
            ]
          },
          "metadata": {
            "tags": []
          },
          "execution_count": 16
        }
      ]
    },
    {
      "cell_type": "code",
      "metadata": {
        "id": "Got9KIA7scap",
        "colab_type": "code",
        "colab": {}
      },
      "source": [
        ""
      ],
      "execution_count": 0,
      "outputs": []
    },
    {
      "cell_type": "markdown",
      "metadata": {
        "id": "NdJHC3E97dB1",
        "colab_type": "text"
      },
      "source": [
        "**Data Frame Helper Functions for search Context**"
      ]
    },
    {
      "cell_type": "code",
      "metadata": {
        "id": "Z_Wzal0fSYHg",
        "colab_type": "code",
        "colab": {}
      },
      "source": [
        "def prepare_search_data(_meta_data_frame,research_dataframe):\n",
        "  _meta_data_frame[\"doc_id\"] = _meta_data_frame[\"sha\"]\n",
        "  _meta_data_frame = cleanEmptyData('doc_id', _meta_data_frame)\n",
        "  _meta_data_frame = cleanEmptyData('publish_time', _meta_data_frame)\n",
        "  meta_data_filter = _meta_data_frame[_meta_data_frame['publish_time'].str.contains('2019') | _meta_data_frame['publish_time'].str.contains('2020')]  \n",
        "  research_dataframe_clean = cleanEmptyData('doc_id', research_dataframe)\n",
        "  research_dataframe_clean = cleanEmptyData('text_body', research_dataframe_clean)\n",
        "  tmp_data_frame  = research_dataframe_clean.merge(meta_data_filter, on='doc_id', how='right')\n",
        "  clean_process_data = tmp_data_frame.drop([\"source\", \"abstract_x\", \"cord_uid\", \"abstract_x\",\"sha\",\"source_x\",\"title_y\",\"pmcid\",\"pubmed_id\",\"license\",\"abstract_y\",\"journal\",\"Microsoft Academic Paper ID\",\"WHO #Covidence\",\"has_pdf_parse\",\"has_pmc_xml_parse\",\"full_text_file\"], axis=1)\n",
        "  clean_process_data = cleanEmptyData('text_body', clean_process_data)\n",
        "  clean_process_data = clean_process_data.rename(columns={'title_x': 'title'})\n",
        "  clean_process_data = clean_process_data.query('doi == \"10.5582/ddt.2011.v5.5.220\"')\n",
        "  columns = [\"doc_id\",\"doi\", \"publish_time\", \"authors\",\"url\",\"title\", \"text_body\"]\n",
        "  # doi,publish_time,authors,url,title,inference\n",
        "  clean_process_data = clean_process_data.reindex(columns=columns)\n",
        "  return clean_process_data"
      ],
      "execution_count": 0,
      "outputs": []
    },
    {
      "cell_type": "code",
      "metadata": {
        "id": "dnlOOTZQG431",
        "colab_type": "code",
        "outputId": "00487a6c-8387-42b5-9498-06d03a5cf24c",
        "colab": {
          "base_uri": "https://localhost:8080/",
          "height": 49
        }
      },
      "source": [
        "search_data = prepare_search_data(meta_data,research_dataframe)\n",
        "search_data.head()"
      ],
      "execution_count": 0,
      "outputs": [
        {
          "output_type": "execute_result",
          "data": {
            "text/html": [
              "<div>\n",
              "<style scoped>\n",
              "    .dataframe tbody tr th:only-of-type {\n",
              "        vertical-align: middle;\n",
              "    }\n",
              "\n",
              "    .dataframe tbody tr th {\n",
              "        vertical-align: top;\n",
              "    }\n",
              "\n",
              "    .dataframe thead th {\n",
              "        text-align: right;\n",
              "    }\n",
              "</style>\n",
              "<table border=\"1\" class=\"dataframe\">\n",
              "  <thead>\n",
              "    <tr style=\"text-align: right;\">\n",
              "      <th></th>\n",
              "      <th>doc_id</th>\n",
              "      <th>doi</th>\n",
              "      <th>publish_time</th>\n",
              "      <th>authors</th>\n",
              "      <th>url</th>\n",
              "      <th>title</th>\n",
              "      <th>text_body</th>\n",
              "    </tr>\n",
              "  </thead>\n",
              "  <tbody>\n",
              "  </tbody>\n",
              "</table>\n",
              "</div>"
            ],
            "text/plain": [
              "Empty DataFrame\n",
              "Columns: [doc_id, doi, publish_time, authors, url, title, text_body]\n",
              "Index: []"
            ]
          },
          "metadata": {
            "tags": []
          },
          "execution_count": 31
        }
      ]
    },
    {
      "cell_type": "code",
      "metadata": {
        "id": "1PzCP17URJ0h",
        "colab_type": "code",
        "colab": {}
      },
      "source": [
        "nlp.max_length = 10300000000000"
      ],
      "execution_count": 0,
      "outputs": []
    },
    {
      "cell_type": "code",
      "metadata": {
        "id": "8J20alfVbqxL",
        "colab_type": "code",
        "colab": {}
      },
      "source": [
        "def search_text(raw_text, keywords):\n",
        "  result = []\n",
        "  doc = nlp(raw_text)\n",
        "  for sent in doc.sents:\n",
        "    text = sent.text\n",
        "    no_match_was_found = re.search(keywords, text, flags=re.IGNORECASE)\n",
        "    if no_match_was_found:    \n",
        "      result.append(text) \n",
        "  \n",
        "  #if(len(result)>0):\n",
        "    #print(result)      \n",
        "  return result\n"
      ],
      "execution_count": 0,
      "outputs": []
    },
    {
      "cell_type": "code",
      "metadata": {
        "id": "UxEf3DoBLlay",
        "colab_type": "code",
        "colab": {}
      },
      "source": [
        "alphabets= \"([A-Za-z])\"\n",
        "prefixes = \"(Mr|St|Mrs|Ms|Dr)[.]\"\n",
        "suffixes = \"(Inc|Ltd|Jr|Sr|Co)\"\n",
        "starters = \"(Mr|Mrs|Ms|Dr|He\\s|She\\s|It\\s|They\\s|Their\\s|Our\\s|We\\s|But\\s|However\\s|That\\s|This\\s|Wherever)\"\n",
        "acronyms = \"([A-Z][.][A-Z][.](?:[A-Z][.])?)\"\n",
        "websites = \"[.](com|net|org|io|gov)\"\n",
        "\n",
        "def split_into_sentences(text):\n",
        "    text = \" \" + text + \"  \"\n",
        "    text = text.replace(\"\\n\",\" \")\n",
        "    text = re.sub(prefixes,\"\\\\1<prd>\",text)\n",
        "    text = re.sub(websites,\"<prd>\\\\1\",text)\n",
        "    if \"Ph.D\" in text: text = text.replace(\"Ph.D.\",\"Ph<prd>D<prd>\")\n",
        "    text = re.sub(\"\\s\" + alphabets + \"[.] \",\" \\\\1<prd> \",text)\n",
        "    text = re.sub(acronyms+\" \"+starters,\"\\\\1<stop> \\\\2\",text)\n",
        "    text = re.sub(alphabets + \"[.]\" + alphabets + \"[.]\" + alphabets + \"[.]\",\"\\\\1<prd>\\\\2<prd>\\\\3<prd>\",text)\n",
        "    text = re.sub(alphabets + \"[.]\" + alphabets + \"[.]\",\"\\\\1<prd>\\\\2<prd>\",text)\n",
        "    text = re.sub(\" \"+suffixes+\"[.] \"+starters,\" \\\\1<stop> \\\\2\",text)\n",
        "    text = re.sub(\" \"+suffixes+\"[.]\",\" \\\\1<prd>\",text)\n",
        "    text = re.sub(\" \" + alphabets + \"[.]\",\" \\\\1<prd>\",text)\n",
        "    if \"”\" in text: text = text.replace(\".”\",\"”.\")\n",
        "    if \"\\\"\" in text: text = text.replace(\".\\\"\",\"\\\".\")\n",
        "    if \"!\" in text: text = text.replace(\"!\\\"\",\"\\\"!\")\n",
        "    if \"?\" in text: text = text.replace(\"?\\\"\",\"\\\"?\")\n",
        "    text = text.replace(\".\",\".<stop>\")\n",
        "    text = text.replace(\"?\",\"?<stop>\")\n",
        "    text = text.replace(\"!\",\"!<stop>\")\n",
        "    text = text.replace(\"<prd>\",\".\")\n",
        "    sentences = text.split(\"<stop>\")\n",
        "    sentences = sentences[:-1]\n",
        "    sentences = [s.strip() for s in sentences]\n",
        "    return sentences"
      ],
      "execution_count": 0,
      "outputs": []
    },
    {
      "cell_type": "code",
      "metadata": {
        "id": "6-6EeJf41mGS",
        "colab_type": "code",
        "colab": {}
      },
      "source": [
        "def search_inference_keys(text, keywords):\n",
        "  sentences = split_into_sentences(text)\n",
        "  txt = ''\n",
        "  for sent in sentences:\n",
        "    r = re.compile(keywords,flags=re.IGNORECASE)\n",
        "    if len(r.findall(sent))>0:         \n",
        "      txt = str(txt) + str(sent)\n",
        "  return txt"
      ],
      "execution_count": 0,
      "outputs": []
    },
    {
      "cell_type": "code",
      "metadata": {
        "id": "iIgDseVT8wM6",
        "colab_type": "code",
        "colab": {}
      },
      "source": [
        "def check_exist_multiple_keywords(text, keywords):\n",
        "  r = re.compile(keywords, flags=re.IGNORECASE)\n",
        "  if len(r.findall(text))>0:    \n",
        "    return True\n",
        "  else:\n",
        "    return False"
      ],
      "execution_count": 0,
      "outputs": []
    },
    {
      "cell_type": "code",
      "metadata": {
        "id": "3M_PhIreMaF-",
        "colab_type": "code",
        "outputId": "dffdb2e8-9e31-4bdd-d89a-5ba3f0a38556",
        "colab": {
          "base_uri": "https://localhost:8080/",
          "height": 419
        }
      },
      "source": [
        "search_data.isnull()"
      ],
      "execution_count": 0,
      "outputs": [
        {
          "output_type": "execute_result",
          "data": {
            "text/html": [
              "<div>\n",
              "<style scoped>\n",
              "    .dataframe tbody tr th:only-of-type {\n",
              "        vertical-align: middle;\n",
              "    }\n",
              "\n",
              "    .dataframe tbody tr th {\n",
              "        vertical-align: top;\n",
              "    }\n",
              "\n",
              "    .dataframe thead th {\n",
              "        text-align: right;\n",
              "    }\n",
              "</style>\n",
              "<table border=\"1\" class=\"dataframe\">\n",
              "  <thead>\n",
              "    <tr style=\"text-align: right;\">\n",
              "      <th></th>\n",
              "      <th>doc_id</th>\n",
              "      <th>doi</th>\n",
              "      <th>publish_time</th>\n",
              "      <th>authors</th>\n",
              "      <th>url</th>\n",
              "      <th>title</th>\n",
              "      <th>text_body</th>\n",
              "    </tr>\n",
              "  </thead>\n",
              "  <tbody>\n",
              "    <tr>\n",
              "      <th>0</th>\n",
              "      <td>False</td>\n",
              "      <td>False</td>\n",
              "      <td>False</td>\n",
              "      <td>False</td>\n",
              "      <td>False</td>\n",
              "      <td>False</td>\n",
              "      <td>False</td>\n",
              "    </tr>\n",
              "    <tr>\n",
              "      <th>1</th>\n",
              "      <td>False</td>\n",
              "      <td>False</td>\n",
              "      <td>False</td>\n",
              "      <td>False</td>\n",
              "      <td>False</td>\n",
              "      <td>False</td>\n",
              "      <td>False</td>\n",
              "    </tr>\n",
              "    <tr>\n",
              "      <th>2</th>\n",
              "      <td>False</td>\n",
              "      <td>False</td>\n",
              "      <td>False</td>\n",
              "      <td>False</td>\n",
              "      <td>False</td>\n",
              "      <td>True</td>\n",
              "      <td>False</td>\n",
              "    </tr>\n",
              "    <tr>\n",
              "      <th>3</th>\n",
              "      <td>False</td>\n",
              "      <td>False</td>\n",
              "      <td>False</td>\n",
              "      <td>False</td>\n",
              "      <td>False</td>\n",
              "      <td>False</td>\n",
              "      <td>False</td>\n",
              "    </tr>\n",
              "    <tr>\n",
              "      <th>4</th>\n",
              "      <td>False</td>\n",
              "      <td>False</td>\n",
              "      <td>False</td>\n",
              "      <td>False</td>\n",
              "      <td>False</td>\n",
              "      <td>True</td>\n",
              "      <td>False</td>\n",
              "    </tr>\n",
              "    <tr>\n",
              "      <th>...</th>\n",
              "      <td>...</td>\n",
              "      <td>...</td>\n",
              "      <td>...</td>\n",
              "      <td>...</td>\n",
              "      <td>...</td>\n",
              "      <td>...</td>\n",
              "      <td>...</td>\n",
              "    </tr>\n",
              "    <tr>\n",
              "      <th>2282</th>\n",
              "      <td>False</td>\n",
              "      <td>False</td>\n",
              "      <td>False</td>\n",
              "      <td>False</td>\n",
              "      <td>False</td>\n",
              "      <td>False</td>\n",
              "      <td>False</td>\n",
              "    </tr>\n",
              "    <tr>\n",
              "      <th>2283</th>\n",
              "      <td>False</td>\n",
              "      <td>False</td>\n",
              "      <td>False</td>\n",
              "      <td>False</td>\n",
              "      <td>False</td>\n",
              "      <td>False</td>\n",
              "      <td>False</td>\n",
              "    </tr>\n",
              "    <tr>\n",
              "      <th>2284</th>\n",
              "      <td>False</td>\n",
              "      <td>True</td>\n",
              "      <td>False</td>\n",
              "      <td>False</td>\n",
              "      <td>False</td>\n",
              "      <td>False</td>\n",
              "      <td>False</td>\n",
              "    </tr>\n",
              "    <tr>\n",
              "      <th>2285</th>\n",
              "      <td>False</td>\n",
              "      <td>False</td>\n",
              "      <td>False</td>\n",
              "      <td>False</td>\n",
              "      <td>False</td>\n",
              "      <td>False</td>\n",
              "      <td>False</td>\n",
              "    </tr>\n",
              "    <tr>\n",
              "      <th>2286</th>\n",
              "      <td>False</td>\n",
              "      <td>False</td>\n",
              "      <td>False</td>\n",
              "      <td>False</td>\n",
              "      <td>False</td>\n",
              "      <td>False</td>\n",
              "      <td>False</td>\n",
              "    </tr>\n",
              "  </tbody>\n",
              "</table>\n",
              "<p>2287 rows × 7 columns</p>\n",
              "</div>"
            ],
            "text/plain": [
              "      doc_id    doi  publish_time  authors    url  title  text_body\n",
              "0      False  False         False    False  False  False      False\n",
              "1      False  False         False    False  False  False      False\n",
              "2      False  False         False    False  False   True      False\n",
              "3      False  False         False    False  False  False      False\n",
              "4      False  False         False    False  False   True      False\n",
              "...      ...    ...           ...      ...    ...    ...        ...\n",
              "2282   False  False         False    False  False  False      False\n",
              "2283   False  False         False    False  False  False      False\n",
              "2284   False   True         False    False  False  False      False\n",
              "2285   False  False         False    False  False  False      False\n",
              "2286   False  False         False    False  False  False      False\n",
              "\n",
              "[2287 rows x 7 columns]"
            ]
          },
          "metadata": {
            "tags": []
          },
          "execution_count": 25
        }
      ]
    },
    {
      "cell_type": "code",
      "metadata": {
        "id": "adlqIBj3u_e6",
        "colab_type": "code",
        "colab": {}
      },
      "source": [
        "def searc_by_keys_as_excel(keyword, src_data_frame):\n",
        "  data_frame = src_data_frame\n",
        "  data_frame['search_key_status'] =data_frame.loc[:,'text_body'].apply(lambda x: check_exist_multiple_keywords(x,keyword))\n",
        "  print('Completed Search Indexing')\n",
        "  process_data_frame = data_frame.query('search_key_status == True')\n",
        "  ## filter on corona and covid 19 related data\n",
        "  process_data_frame.loc[:,'inference'] = process_data_frame.loc[:,'text_body'].apply( lambda x: search_inference_keys(x,keyword))\n",
        "  print('Completed Inference Search')\n",
        "  #process_data_frame = process_data_frame.query('inference != \"failed\"')\n",
        "  final_data = process_data_frame.drop([\"search_key_status\",\"text_body\"], axis=1)\n",
        "  final_data.head()\n",
        "  final_data.to_excel(str(keyword) + '_result.xlsx', sheet_name='keyword')\n",
        "  print('Completed')\n",
        "  return final_data"
      ],
      "execution_count": 0,
      "outputs": []
    },
    {
      "cell_type": "code",
      "metadata": {
        "id": "0_Yn05fpbuK2",
        "colab_type": "code",
        "colab": {}
      },
      "source": [
        "def searc_covid_by_keys_as_excel(keyword, src_data_frame):\n",
        "  data_frame = src_data_frame\n",
        "  data_frame['search_key_status'] =data_frame.loc[:,'text_body'].apply(lambda x: check_exist_multiple_keywords(x,keyword))\n",
        "  print('Completed Search Indexing')\n",
        "  process_data_frame = data_frame.query('search_key_status == True')\n",
        "\n",
        "  process_data_frame['search_covid_content'] =process_data_frame.loc[:,'text_body'].apply(lambda x: check_exist_multiple_keywords(x,'covid-19|sars-cov-2|2019-ncov|ncov-19|coronavirus'))\n",
        "  process_data_frame = process_data_frame.query('search_covid_content == True')\n",
        "  ## filter on corona and covid 19 related data\n",
        "  process_data_frame.loc[:,'inference'] = process_data_frame.loc[:,'text_body'].apply( lambda x: search_inference_keys(x,keyword))\n",
        "  print('Completed Inference Search')\n",
        "  #process_data_frame = process_data_frame.query('inference != \"failed\"')\n",
        "  final_data = process_data_frame.drop([\"search_key_status\",\"text_body\"], axis=1)\n",
        "  final_data.head()\n",
        "  final_data.to_excel(str(keyword) + '_result.xlsx', sheet_name='keyword')\n",
        "  print('Completed')\n",
        "  return final_data"
      ],
      "execution_count": 0,
      "outputs": []
    },
    {
      "cell_type": "code",
      "metadata": {
        "id": "4-Eh--VD-JtM",
        "colab_type": "code",
        "outputId": "9c62ddb8-e280-4787-ec9a-6fbc734ce586",
        "colab": {
          "base_uri": "https://localhost:8080/",
          "height": 887
        }
      },
      "source": [
        "final_data =searc_covid_by_keys_as_excel('remdesivir|lopinavir|ritonavir|oseltamivir|favipiravir|sofosbuvir|corticosteroids',search_data)\n",
        "final_data.head()"
      ],
      "execution_count": 0,
      "outputs": [
        {
          "output_type": "stream",
          "text": [
            "Completed Search Indexing\n"
          ],
          "name": "stdout"
        },
        {
          "output_type": "stream",
          "text": [
            "/usr/local/lib/python3.6/dist-packages/ipykernel_launcher.py:7: SettingWithCopyWarning: \n",
            "A value is trying to be set on a copy of a slice from a DataFrame.\n",
            "Try using .loc[row_indexer,col_indexer] = value instead\n",
            "\n",
            "See the caveats in the documentation: https://pandas.pydata.org/pandas-docs/stable/user_guide/indexing.html#returning-a-view-versus-a-copy\n",
            "  import sys\n",
            "/usr/local/lib/python3.6/dist-packages/pandas/core/indexing.py:845: SettingWithCopyWarning: \n",
            "A value is trying to be set on a copy of a slice from a DataFrame.\n",
            "Try using .loc[row_indexer,col_indexer] = value instead\n",
            "\n",
            "See the caveats in the documentation: https://pandas.pydata.org/pandas-docs/stable/user_guide/indexing.html#returning-a-view-versus-a-copy\n",
            "  self.obj[key] = _infer_fill_value(value)\n",
            "/usr/local/lib/python3.6/dist-packages/pandas/core/indexing.py:966: SettingWithCopyWarning: \n",
            "A value is trying to be set on a copy of a slice from a DataFrame.\n",
            "Try using .loc[row_indexer,col_indexer] = value instead\n",
            "\n",
            "See the caveats in the documentation: https://pandas.pydata.org/pandas-docs/stable/user_guide/indexing.html#returning-a-view-versus-a-copy\n",
            "  self.obj[item] = s\n"
          ],
          "name": "stderr"
        },
        {
          "output_type": "stream",
          "text": [
            "Completed Inference Search\n",
            "Completed\n"
          ],
          "name": "stdout"
        },
        {
          "output_type": "execute_result",
          "data": {
            "text/html": [
              "<div>\n",
              "<style scoped>\n",
              "    .dataframe tbody tr th:only-of-type {\n",
              "        vertical-align: middle;\n",
              "    }\n",
              "\n",
              "    .dataframe tbody tr th {\n",
              "        vertical-align: top;\n",
              "    }\n",
              "\n",
              "    .dataframe thead th {\n",
              "        text-align: right;\n",
              "    }\n",
              "</style>\n",
              "<table border=\"1\" class=\"dataframe\">\n",
              "  <thead>\n",
              "    <tr style=\"text-align: right;\">\n",
              "      <th></th>\n",
              "      <th>doc_id</th>\n",
              "      <th>doi</th>\n",
              "      <th>publish_time</th>\n",
              "      <th>authors</th>\n",
              "      <th>url</th>\n",
              "      <th>title</th>\n",
              "      <th>search_covid_content</th>\n",
              "      <th>inference</th>\n",
              "    </tr>\n",
              "  </thead>\n",
              "  <tbody>\n",
              "    <tr>\n",
              "      <th>0</th>\n",
              "      <td>43d2d4072d40a3964ea330342b9222376d700531</td>\n",
              "      <td>10.3201/eid2509.181937</td>\n",
              "      <td>2019-09-10</td>\n",
              "      <td>Jing, Shuping; Zhang, Jing; Cao, Mengchan; Liu...</td>\n",
              "      <td>https://www.ncbi.nlm.nih.gov/pmc/articles/PMC6...</td>\n",
              "      <td>Lassa fever in travelers from West Africa</td>\n",
              "      <td>True</td>\n",
              "      <td>After antiinflammatory and antiviral treatment...</td>\n",
              "    </tr>\n",
              "    <tr>\n",
              "      <th>54</th>\n",
              "      <td>5d4f1f02d0e731966dddd635e8fa7bfdc169d3b9</td>\n",
              "      <td>10.1177/2333794x19845074</td>\n",
              "      <td>2019-05-01</td>\n",
              "      <td>Smith, Ryan Kenneth; Gerrits, Peter M.</td>\n",
              "      <td>https://www.ncbi.nlm.nih.gov/pmc/articles/PMC6...</td>\n",
              "      <td>Case Report A Rare Case of Autoimmune Polyglan...</td>\n",
              "      <td>True</td>\n",
              "      <td>When initiating hormone therapy for treatment ...</td>\n",
              "    </tr>\n",
              "    <tr>\n",
              "      <th>55</th>\n",
              "      <td>afa4ca223097866f6e31d75570448a22db0f72c5</td>\n",
              "      <td>10.2147/idr.s231087</td>\n",
              "      <td>2019-11-07</td>\n",
              "      <td>AlRuthia, Yazed; Somily, Ali M; Alkhamali, Ama...</td>\n",
              "      <td>https://www.ncbi.nlm.nih.gov/pmc/articles/PMC6...</td>\n",
              "      <td>Estimation Of Direct Medical Costs Of Middle E...</td>\n",
              "      <td>True</td>\n",
              "      <td>75%) as well as those on mechanical ventilatio...</td>\n",
              "    </tr>\n",
              "    <tr>\n",
              "      <th>69</th>\n",
              "      <td>f3fa89e819a64d2d6c74f6d590661ca435878c26</td>\n",
              "      <td>10.1097/jcma.0000000000000270</td>\n",
              "      <td>2020</td>\n",
              "      <td>Wu, Yi-Chi; Chen, Ching-Sung; Chan, Yu-Jiun</td>\n",
              "      <td>https://doi.org/10.1097/jcma.0000000000000270</td>\n",
              "      <td>The outbreak of COVID-19: An overview</td>\n",
              "      <td>True</td>\n",
              "      <td>Remdesivir: The experimental drug is a novel n...</td>\n",
              "    </tr>\n",
              "    <tr>\n",
              "      <th>100</th>\n",
              "      <td>8cfe567d42fa459cb4364e240ddfe29629d03f85</td>\n",
              "      <td>10.5114/ceji.2019.92790</td>\n",
              "      <td>2020-01-20</td>\n",
              "      <td>WARDZYŃSKA, ALEKSANDRA; PAWEŁCZYK, MAŁGORZATA;...</td>\n",
              "      <td>https://www.ncbi.nlm.nih.gov/pmc/articles/PMC7...</td>\n",
              "      <td>The profile of respiratory pathogens in induce...</td>\n",
              "      <td>True</td>\n",
              "      <td>None of the individuals demonstrated any sympt...</td>\n",
              "    </tr>\n",
              "  </tbody>\n",
              "</table>\n",
              "</div>"
            ],
            "text/plain": [
              "                                       doc_id  ...                                          inference\n",
              "0    43d2d4072d40a3964ea330342b9222376d700531  ...  After antiinflammatory and antiviral treatment...\n",
              "54   5d4f1f02d0e731966dddd635e8fa7bfdc169d3b9  ...  When initiating hormone therapy for treatment ...\n",
              "55   afa4ca223097866f6e31d75570448a22db0f72c5  ...  75%) as well as those on mechanical ventilatio...\n",
              "69   f3fa89e819a64d2d6c74f6d590661ca435878c26  ...  Remdesivir: The experimental drug is a novel n...\n",
              "100  8cfe567d42fa459cb4364e240ddfe29629d03f85  ...  None of the individuals demonstrated any sympt...\n",
              "\n",
              "[5 rows x 8 columns]"
            ]
          },
          "metadata": {
            "tags": []
          },
          "execution_count": 29
        }
      ]
    },
    {
      "cell_type": "code",
      "metadata": {
        "id": "TxpHSHwkal6l",
        "colab_type": "code",
        "outputId": "e7e5794b-c119-43d6-bac7-595ad52c6c1d",
        "colab": {
          "base_uri": "https://localhost:8080/",
          "height": 419
        }
      },
      "source": [
        "search_data.isnull()"
      ],
      "execution_count": 0,
      "outputs": [
        {
          "output_type": "execute_result",
          "data": {
            "text/html": [
              "<div>\n",
              "<style scoped>\n",
              "    .dataframe tbody tr th:only-of-type {\n",
              "        vertical-align: middle;\n",
              "    }\n",
              "\n",
              "    .dataframe tbody tr th {\n",
              "        vertical-align: top;\n",
              "    }\n",
              "\n",
              "    .dataframe thead th {\n",
              "        text-align: right;\n",
              "    }\n",
              "</style>\n",
              "<table border=\"1\" class=\"dataframe\">\n",
              "  <thead>\n",
              "    <tr style=\"text-align: right;\">\n",
              "      <th></th>\n",
              "      <th>doc_id</th>\n",
              "      <th>doi</th>\n",
              "      <th>publish_time</th>\n",
              "      <th>authors</th>\n",
              "      <th>url</th>\n",
              "      <th>title</th>\n",
              "      <th>text_body</th>\n",
              "      <th>search_key_status</th>\n",
              "    </tr>\n",
              "  </thead>\n",
              "  <tbody>\n",
              "    <tr>\n",
              "      <th>0</th>\n",
              "      <td>False</td>\n",
              "      <td>False</td>\n",
              "      <td>False</td>\n",
              "      <td>False</td>\n",
              "      <td>False</td>\n",
              "      <td>False</td>\n",
              "      <td>False</td>\n",
              "      <td>False</td>\n",
              "    </tr>\n",
              "    <tr>\n",
              "      <th>1</th>\n",
              "      <td>False</td>\n",
              "      <td>False</td>\n",
              "      <td>False</td>\n",
              "      <td>False</td>\n",
              "      <td>False</td>\n",
              "      <td>False</td>\n",
              "      <td>False</td>\n",
              "      <td>False</td>\n",
              "    </tr>\n",
              "    <tr>\n",
              "      <th>2</th>\n",
              "      <td>False</td>\n",
              "      <td>False</td>\n",
              "      <td>False</td>\n",
              "      <td>False</td>\n",
              "      <td>False</td>\n",
              "      <td>True</td>\n",
              "      <td>False</td>\n",
              "      <td>False</td>\n",
              "    </tr>\n",
              "    <tr>\n",
              "      <th>3</th>\n",
              "      <td>False</td>\n",
              "      <td>False</td>\n",
              "      <td>False</td>\n",
              "      <td>False</td>\n",
              "      <td>False</td>\n",
              "      <td>False</td>\n",
              "      <td>False</td>\n",
              "      <td>False</td>\n",
              "    </tr>\n",
              "    <tr>\n",
              "      <th>4</th>\n",
              "      <td>False</td>\n",
              "      <td>False</td>\n",
              "      <td>False</td>\n",
              "      <td>False</td>\n",
              "      <td>False</td>\n",
              "      <td>True</td>\n",
              "      <td>False</td>\n",
              "      <td>False</td>\n",
              "    </tr>\n",
              "    <tr>\n",
              "      <th>...</th>\n",
              "      <td>...</td>\n",
              "      <td>...</td>\n",
              "      <td>...</td>\n",
              "      <td>...</td>\n",
              "      <td>...</td>\n",
              "      <td>...</td>\n",
              "      <td>...</td>\n",
              "      <td>...</td>\n",
              "    </tr>\n",
              "    <tr>\n",
              "      <th>2282</th>\n",
              "      <td>False</td>\n",
              "      <td>False</td>\n",
              "      <td>False</td>\n",
              "      <td>False</td>\n",
              "      <td>False</td>\n",
              "      <td>False</td>\n",
              "      <td>False</td>\n",
              "      <td>False</td>\n",
              "    </tr>\n",
              "    <tr>\n",
              "      <th>2283</th>\n",
              "      <td>False</td>\n",
              "      <td>False</td>\n",
              "      <td>False</td>\n",
              "      <td>False</td>\n",
              "      <td>False</td>\n",
              "      <td>False</td>\n",
              "      <td>False</td>\n",
              "      <td>False</td>\n",
              "    </tr>\n",
              "    <tr>\n",
              "      <th>2284</th>\n",
              "      <td>False</td>\n",
              "      <td>True</td>\n",
              "      <td>False</td>\n",
              "      <td>False</td>\n",
              "      <td>False</td>\n",
              "      <td>False</td>\n",
              "      <td>False</td>\n",
              "      <td>False</td>\n",
              "    </tr>\n",
              "    <tr>\n",
              "      <th>2285</th>\n",
              "      <td>False</td>\n",
              "      <td>False</td>\n",
              "      <td>False</td>\n",
              "      <td>False</td>\n",
              "      <td>False</td>\n",
              "      <td>False</td>\n",
              "      <td>False</td>\n",
              "      <td>False</td>\n",
              "    </tr>\n",
              "    <tr>\n",
              "      <th>2286</th>\n",
              "      <td>False</td>\n",
              "      <td>False</td>\n",
              "      <td>False</td>\n",
              "      <td>False</td>\n",
              "      <td>False</td>\n",
              "      <td>False</td>\n",
              "      <td>False</td>\n",
              "      <td>False</td>\n",
              "    </tr>\n",
              "  </tbody>\n",
              "</table>\n",
              "<p>2287 rows × 8 columns</p>\n",
              "</div>"
            ],
            "text/plain": [
              "      doc_id    doi  publish_time  ...  title  text_body  search_key_status\n",
              "0      False  False         False  ...  False      False              False\n",
              "1      False  False         False  ...  False      False              False\n",
              "2      False  False         False  ...   True      False              False\n",
              "3      False  False         False  ...  False      False              False\n",
              "4      False  False         False  ...   True      False              False\n",
              "...      ...    ...           ...  ...    ...        ...                ...\n",
              "2282   False  False         False  ...  False      False              False\n",
              "2283   False  False         False  ...  False      False              False\n",
              "2284   False   True         False  ...  False      False              False\n",
              "2285   False  False         False  ...  False      False              False\n",
              "2286   False  False         False  ...  False      False              False\n",
              "\n",
              "[2287 rows x 8 columns]"
            ]
          },
          "metadata": {
            "tags": []
          },
          "execution_count": 220
        }
      ]
    },
    {
      "cell_type": "code",
      "metadata": {
        "id": "w567Z7zjbDlL",
        "colab_type": "code",
        "outputId": "74b75578-b2d0-49ae-a16b-0625479c2428",
        "colab": {
          "base_uri": "https://localhost:8080/",
          "height": 34
        }
      },
      "source": [
        "check_exist_multiple_keywords('covid-19','covid-19|sars-cov-2|2019-ncov|ncov-19|coronavirus')"
      ],
      "execution_count": 0,
      "outputs": [
        {
          "output_type": "execute_result",
          "data": {
            "text/plain": [
              "True"
            ]
          },
          "metadata": {
            "tags": []
          },
          "execution_count": 225
        }
      ]
    },
    {
      "cell_type": "code",
      "metadata": {
        "id": "FJPdbFJdjbyU",
        "colab_type": "code",
        "outputId": "42ef66ea-6a5a-49aa-f6d9-a9ffd06f582a",
        "colab": {
          "base_uri": "https://localhost:8080/",
          "height": 419
        }
      },
      "source": [
        "final_data.isnull()"
      ],
      "execution_count": 0,
      "outputs": [
        {
          "output_type": "execute_result",
          "data": {
            "text/html": [
              "<div>\n",
              "<style scoped>\n",
              "    .dataframe tbody tr th:only-of-type {\n",
              "        vertical-align: middle;\n",
              "    }\n",
              "\n",
              "    .dataframe tbody tr th {\n",
              "        vertical-align: top;\n",
              "    }\n",
              "\n",
              "    .dataframe thead th {\n",
              "        text-align: right;\n",
              "    }\n",
              "</style>\n",
              "<table border=\"1\" class=\"dataframe\">\n",
              "  <thead>\n",
              "    <tr style=\"text-align: right;\">\n",
              "      <th></th>\n",
              "      <th>doc_id</th>\n",
              "      <th>doi</th>\n",
              "      <th>publish_time</th>\n",
              "      <th>authors</th>\n",
              "      <th>url</th>\n",
              "      <th>title</th>\n",
              "      <th>inference</th>\n",
              "    </tr>\n",
              "  </thead>\n",
              "  <tbody>\n",
              "    <tr>\n",
              "      <th>55</th>\n",
              "      <td>False</td>\n",
              "      <td>False</td>\n",
              "      <td>False</td>\n",
              "      <td>False</td>\n",
              "      <td>False</td>\n",
              "      <td>False</td>\n",
              "      <td>False</td>\n",
              "    </tr>\n",
              "    <tr>\n",
              "      <th>79</th>\n",
              "      <td>False</td>\n",
              "      <td>False</td>\n",
              "      <td>False</td>\n",
              "      <td>False</td>\n",
              "      <td>False</td>\n",
              "      <td>False</td>\n",
              "      <td>False</td>\n",
              "    </tr>\n",
              "    <tr>\n",
              "      <th>112</th>\n",
              "      <td>False</td>\n",
              "      <td>False</td>\n",
              "      <td>False</td>\n",
              "      <td>False</td>\n",
              "      <td>False</td>\n",
              "      <td>True</td>\n",
              "      <td>False</td>\n",
              "    </tr>\n",
              "    <tr>\n",
              "      <th>113</th>\n",
              "      <td>False</td>\n",
              "      <td>False</td>\n",
              "      <td>False</td>\n",
              "      <td>False</td>\n",
              "      <td>False</td>\n",
              "      <td>False</td>\n",
              "      <td>False</td>\n",
              "    </tr>\n",
              "    <tr>\n",
              "      <th>128</th>\n",
              "      <td>False</td>\n",
              "      <td>False</td>\n",
              "      <td>False</td>\n",
              "      <td>False</td>\n",
              "      <td>False</td>\n",
              "      <td>False</td>\n",
              "      <td>False</td>\n",
              "    </tr>\n",
              "    <tr>\n",
              "      <th>...</th>\n",
              "      <td>...</td>\n",
              "      <td>...</td>\n",
              "      <td>...</td>\n",
              "      <td>...</td>\n",
              "      <td>...</td>\n",
              "      <td>...</td>\n",
              "      <td>...</td>\n",
              "    </tr>\n",
              "    <tr>\n",
              "      <th>2094</th>\n",
              "      <td>False</td>\n",
              "      <td>False</td>\n",
              "      <td>False</td>\n",
              "      <td>False</td>\n",
              "      <td>False</td>\n",
              "      <td>False</td>\n",
              "      <td>False</td>\n",
              "    </tr>\n",
              "    <tr>\n",
              "      <th>2099</th>\n",
              "      <td>False</td>\n",
              "      <td>False</td>\n",
              "      <td>False</td>\n",
              "      <td>False</td>\n",
              "      <td>False</td>\n",
              "      <td>False</td>\n",
              "      <td>False</td>\n",
              "    </tr>\n",
              "    <tr>\n",
              "      <th>2127</th>\n",
              "      <td>False</td>\n",
              "      <td>False</td>\n",
              "      <td>False</td>\n",
              "      <td>False</td>\n",
              "      <td>False</td>\n",
              "      <td>False</td>\n",
              "      <td>False</td>\n",
              "    </tr>\n",
              "    <tr>\n",
              "      <th>2155</th>\n",
              "      <td>False</td>\n",
              "      <td>False</td>\n",
              "      <td>False</td>\n",
              "      <td>False</td>\n",
              "      <td>False</td>\n",
              "      <td>False</td>\n",
              "      <td>False</td>\n",
              "    </tr>\n",
              "    <tr>\n",
              "      <th>2236</th>\n",
              "      <td>False</td>\n",
              "      <td>False</td>\n",
              "      <td>False</td>\n",
              "      <td>False</td>\n",
              "      <td>False</td>\n",
              "      <td>True</td>\n",
              "      <td>False</td>\n",
              "    </tr>\n",
              "  </tbody>\n",
              "</table>\n",
              "<p>88 rows × 7 columns</p>\n",
              "</div>"
            ],
            "text/plain": [
              "      doc_id    doi  publish_time  authors    url  title  inference\n",
              "55     False  False         False    False  False  False      False\n",
              "79     False  False         False    False  False  False      False\n",
              "112    False  False         False    False  False   True      False\n",
              "113    False  False         False    False  False  False      False\n",
              "128    False  False         False    False  False  False      False\n",
              "...      ...    ...           ...      ...    ...    ...        ...\n",
              "2094   False  False         False    False  False  False      False\n",
              "2099   False  False         False    False  False  False      False\n",
              "2127   False  False         False    False  False  False      False\n",
              "2155   False  False         False    False  False  False      False\n",
              "2236   False  False         False    False  False   True      False\n",
              "\n",
              "[88 rows x 7 columns]"
            ]
          },
          "metadata": {
            "tags": []
          },
          "execution_count": 66
        }
      ]
    },
    {
      "cell_type": "code",
      "metadata": {
        "id": "tsWuSM3uac0N",
        "colab_type": "code",
        "colab": {}
      },
      "source": [
        " process_data_frame['corona_filter'] =process_data_frame.loc[:,'text_body'].apply(lambda x: check_exist_multiple_keywords(x,'covid-19|sars-cov-2|2019-ncov|ncov-19|coronavirus'))"
      ],
      "execution_count": 0,
      "outputs": []
    },
    {
      "cell_type": "code",
      "metadata": {
        "id": "gXMbYKsTWPRD",
        "colab_type": "code",
        "outputId": "37c54f4f-cca1-4df8-c402-eed98cab825c",
        "colab": {
          "base_uri": "https://localhost:8080/",
          "height": 122
        }
      },
      "source": [
        "from google.colab import drive\n",
        "drive.mount('/content/drive')"
      ],
      "execution_count": 0,
      "outputs": [
        {
          "output_type": "stream",
          "text": [
            "Go to this URL in a browser: https://accounts.google.com/o/oauth2/auth?client_id=947318989803-6bn6qk8qdgf4n4g3pfee6491hc0brc4i.apps.googleusercontent.com&redirect_uri=urn%3aietf%3awg%3aoauth%3a2.0%3aoob&response_type=code&scope=email%20https%3a%2f%2fwww.googleapis.com%2fauth%2fdocs.test%20https%3a%2f%2fwww.googleapis.com%2fauth%2fdrive%20https%3a%2f%2fwww.googleapis.com%2fauth%2fdrive.photos.readonly%20https%3a%2f%2fwww.googleapis.com%2fauth%2fpeopleapi.readonly\n",
            "\n",
            "Enter your authorization code:\n",
            "··········\n",
            "Mounted at /content/drive\n"
          ],
          "name": "stdout"
        }
      ]
    },
    {
      "cell_type": "code",
      "metadata": {
        "id": "Drun6PFciqUm",
        "colab_type": "code",
        "outputId": "1b858878-0bf0-491f-c69f-4e9935e19a09",
        "colab": {
          "base_uri": "https://localhost:8080/",
          "height": 34
        }
      },
      "source": [
        "\n"
      ],
      "execution_count": 0,
      "outputs": [
        {
          "output_type": "stream",
          "text": [
            "Found GPU at: /device:GPU:0\n"
          ],
          "name": "stdout"
        }
      ]
    },
    {
      "cell_type": "code",
      "metadata": {
        "id": "MIudrEDnVobh",
        "colab_type": "code",
        "outputId": "86bdd787-54ac-459a-9f00-4cae179c58ac",
        "colab": {
          "base_uri": "https://localhost:8080/",
          "height": 34
        }
      },
      "source": [
        "s = \"These are roses and lilies and orchids, but not marigolds or ..\"\n",
        "k = 'ROses|not'\n",
        "r = re.compile(k)\n",
        "print(len(r.findall(s)))"
      ],
      "execution_count": 0,
      "outputs": [
        {
          "output_type": "stream",
          "text": [
            "1\n"
          ],
          "name": "stdout"
        }
      ]
    },
    {
      "cell_type": "code",
      "metadata": {
        "id": "UrjFpjmKdyD-",
        "colab_type": "code",
        "colab": {}
      },
      "source": [
        "def search_inference_test(text, keywords):\n",
        "  total_keyword = len(keywords.split(\"|\"))\n",
        "  print('total Keword search :' , total_keyword)\n",
        "  sentences = split_into_sentences(text)\n",
        "  txt = ''\n",
        "  for sent in sentences:\n",
        "    #match_was_found = re.search(keywords, sent, flags=re.IGNORECASE)\n",
        "    r = re.compile(keywords, flags=re.I | re.X)\n",
        "    print('Search Result:', len(r.findall(sent)))\n",
        "    if len(r.findall(sent)) == total_keyword:         \n",
        "      txt = str(txt) + str(sent)\n",
        "  return txt"
      ],
      "execution_count": 0,
      "outputs": []
    },
    {
      "cell_type": "code",
      "metadata": {
        "id": "xnu3jbVccW8L",
        "colab_type": "code",
        "outputId": "61f7c669-c425-4951-f515-7059c9cdf228",
        "colab": {
          "base_uri": "https://localhost:8080/",
          "height": 68
        }
      },
      "source": [
        "s =\"Operational issues associated with wearing disposable facemasks to maximise their preventive effectiveness should be also publicised and educated to the general public including correct ways of wearing facemask, hygiene practices across the procedure of mask wearing, disposal of used masks.\"\n",
        "k = 'issues associated'\n",
        "text_result = search_inference_keys(s,k)\n",
        "print(text_result)"
      ],
      "execution_count": 0,
      "outputs": [
        {
          "output_type": "stream",
          "text": [
            "[]\n",
            "0 -- 1\n",
            "failed\n"
          ],
          "name": "stdout"
        }
      ]
    },
    {
      "cell_type": "code",
      "metadata": {
        "id": "n-mziv7pnoUY",
        "colab_type": "code",
        "outputId": "3c2c36a5-1c6a-4585-8501-9b31ee1dcf4b",
        "colab": {
          "base_uri": "https://localhost:8080/",
          "height": 34
        }
      },
      "source": [
        "import re\n",
        "ke = 'Adrenal insufficiency'\n",
        "s = \"Adrenal insufficiency is decreased or deficient production of glucocorticoids and/or mineralocorticoids that has potential to be life-threatening.1,2 First described by Thomas Addison in 1855, this disease can present insidiously with weakness, fatigue, weight loss, abdominal pain, nausea, vomiting, hypotension, salt cravings, depression, anxiety, as well as mucosal and epithelial hyperpigmentation.1, 2 Adrenal insufficiency is related to dysfunction of the hypothalamic-pituitary-adrenal axis.1, 2 Primary disease refers to pathology of the adrenal cortex; secondary refers to inadequate or deficient release of adrenocorticotropic hormone (ACTH) or inappropriate response to this hormone by the adrenal gland; and tertiary refers to disordered hypothalamic production of corticotropin releasing hormone.1 Primary adrenal disease occurs more\"\n",
        "r = re.compile('b(?:insufficiency|deficient)\\b', flags=re.IGNORECASE)\n",
        "result = r.findall(s);\n",
        "print(result)"
      ],
      "execution_count": 0,
      "outputs": [
        {
          "output_type": "stream",
          "text": [
            "[]\n"
          ],
          "name": "stdout"
        }
      ]
    }
  ]
}